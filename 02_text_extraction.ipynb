{
 "cells": [
  {
   "cell_type": "code",
   "execution_count": 2,
   "metadata": {},
   "outputs": [],
   "source": [
    "import pandas as pd\n",
    "import numpy as np\n",
    "import re"
   ]
  },
  {
   "cell_type": "markdown",
   "metadata": {},
   "source": [
    "### 1. 파일 리스트 생성 및 open"
   ]
  },
  {
   "cell_type": "code",
   "execution_count": 3,
   "metadata": {},
   "outputs": [],
   "source": [
    "file_list = ['p99 (1)','p99-shi','p979-satish (2)','p980_manojkagarwal_vldb2012',\n",
    "             'p985','p987','p991-cui','p992_odysseaspapapetrou_vldb2012','p997', 'paper-1', 'paper-10',\n",
    "            'paper-11', 'paper-11_2', 'paper-11_2_2', 'paper-12', 'paper-100', 'paper-101', 'paper-102',\n",
    "            'paper-103', 'paper-105', 'paper-106', 'paper-107', 'paper-108', 'paper-109',\n",
    "            'paper-110', 'paper-112', 'paper-112_2', 'paper-114', 'paper-117', 'paper-119', 'paper-119_2',\n",
    "            'paper-120', 'paper-124', 'paper-124_2', 'paper-125', 'paper-125_2', 'paper-126', 'paper-128',\n",
    "            'paper-129', 'paper-131', 'paper-131_2', 'paper-132', 'paper-133', 'paper-134', 'paper-136',\n",
    "            'paper-137', 'paper-138', 'paper-139', 'paper-142', 'paper-145', 'paper-146', 'paper-148',\n",
    "            'paper-150', 'paper-153', 'paper-155', 'AlyAOM14']"
   ]
  },
  {
   "cell_type": "code",
   "execution_count": 4,
   "metadata": {},
   "outputs": [],
   "source": [
    "def read_split_file(file_name):\n",
    "    file = open('C:/Users/ehrme/Downloads/data/{0}.txt'.format(file_name), 'r', encoding = 'utf-8')\n",
    "    name = file.read()\n",
    "    name = name.split(' ')\n",
    "    return name\n",
    "\n",
    "def write_txt_file(file, abstract, introduction):\n",
    "    file = open(file, 'w', encoding = 'utf-8')\n",
    "    file.write(abstract + '\\n' + introduction)\n",
    "\n",
    "paper_list = []\n",
    "for i in range(56):\n",
    "    globals()['paper{}'.format(i)] = read_split_file(file_list[i])\n",
    "    paper_list.append(globals()['paper{}'.format(i)])\n",
    "#readline으로 저자랑 제목"
   ]
  },
  {
   "cell_type": "markdown",
   "metadata": {},
   "source": [
    "### 2. ABSTRACT 추출"
   ]
  },
  {
   "cell_type": "code",
   "execution_count": 5,
   "metadata": {},
   "outputs": [],
   "source": [
    "class abstract:\n",
    "    def __init__(self, file):\n",
    "        self.file = file\n",
    "        \n",
    "    def abstract_start(self):\n",
    "        for i in range(len(self.file)):\n",
    "            if self.file[i] == '\\nABSTRACT' or self.file[i] == 'ABSTRACT':\n",
    "                return i+1\n",
    "            \n",
    "    def abstract_end(self):\n",
    "            for j in range(len(self.file)):\n",
    "                if self.file[j] == 'Categories' or self.file[j] == '\\nCategories':\n",
    "                    return j\n",
    "                \n",
    "                elif self.file[j] == '\\n1.' and self.file[j+1] == 'INTRODUCTION':\n",
    "                    return j\n",
    "\n",
    "    def make_txt(self):\n",
    "        file = self.file[abstract.abstract_start(self):abstract.abstract_end(self)]\n",
    "        file = ' '.join(file)\n",
    "        return file\n",
    "    \n",
    "    def __call__(self):\n",
    "        pass\n",
    "        #print(self.file_name, abstract.abstract_start(self), abstract.abstract_end(self))\n",
    "        #print(abstract.make_txt(self))"
   ]
  },
  {
   "cell_type": "markdown",
   "metadata": {},
   "source": [
    "### 3. INTRODUCTION 추출"
   ]
  },
  {
   "cell_type": "code",
   "execution_count": 6,
   "metadata": {},
   "outputs": [],
   "source": [
    "class introduction:\n",
    "    def __init__(self, file):\n",
    "        self.file = file\n",
    "        \n",
    "    def introduction_start(self):\n",
    "        for i in range(len(self.file)):\n",
    "            if self.file[i] == '\\n1.'  and self.file[i+1] == 'INTRODUCTION':\n",
    "                return i+2\n",
    "            \n",
    "    def introduction_end(self):\n",
    "            for i in range(len(self.file)):\n",
    "                if self.file[i] == '\\n2.' and self.file[i+1].isupper() == True:\n",
    "                    return i\n",
    "\n",
    "    def make_txt(self):\n",
    "        file = self.file[introduction.introduction_start(self):introduction.introduction_end(self)]\n",
    "        file = ' '.join(file)\n",
    "        return file\n",
    "    \n",
    "    def __call__(self):\n",
    "        pass\n",
    "        #print(self.file_name, introduction.introduction_start(self), introduction.introduction_end(self))\n",
    "        #print(introduction.make_txt(self))"
   ]
  },
  {
   "cell_type": "markdown",
   "metadata": {},
   "source": [
    "### 4. ABSTRACT&INTRODUCTION textfile 생성"
   ]
  },
  {
   "cell_type": "code",
   "execution_count": 7,
   "metadata": {
    "scrolled": false
   },
   "outputs": [],
   "source": [
    "abs_list = []\n",
    "intro_list = []\n",
    "abs_intro = []\n",
    "\n",
    "for i in range(56):\n",
    "    a = abstract(paper_list[i])\n",
    "    b = introduction(paper_list[i])\n",
    "    a()\n",
    "    b()\n",
    "    write_txt_file('file{0}.txt'.format(i), a.make_txt(), b.make_txt())\n",
    "    text = a.make_txt() + b.make_txt()\n",
    "    abs_intro.append(text)\n",
    "    abs_list.append(a.make_txt())\n",
    "    intro_list.append(b.make_txt())"
   ]
  }
 ],
 "metadata": {
  "kernelspec": {
   "display_name": "Python 3",
   "language": "python",
   "name": "python3"
  },
  "language_info": {
   "codemirror_mode": {
    "name": "ipython",
    "version": 3
   },
   "file_extension": ".py",
   "mimetype": "text/x-python",
   "name": "python",
   "nbconvert_exporter": "python",
   "pygments_lexer": "ipython3",
   "version": "3.7.5"
  }
 },
 "nbformat": 4,
 "nbformat_minor": 4
}
