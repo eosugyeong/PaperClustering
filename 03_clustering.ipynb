{
 "cells": [
  {
   "cell_type": "code",
   "execution_count": 1,
   "metadata": {},
   "outputs": [
    {
     "name": "stderr",
     "output_type": "stream",
     "text": [
      "C:\\Users\\ehrme\\Anaconda3\\envs\\sugyeong_2019\\lib\\site-packages\\tensorflow\\python\\framework\\dtypes.py:516: FutureWarning: Passing (type, 1) or '1type' as a synonym of type is deprecated; in a future version of numpy, it will be understood as (type, (1,)) / '(1,)type'.\n",
      "  _np_qint8 = np.dtype([(\"qint8\", np.int8, 1)])\n",
      "C:\\Users\\ehrme\\Anaconda3\\envs\\sugyeong_2019\\lib\\site-packages\\tensorflow\\python\\framework\\dtypes.py:517: FutureWarning: Passing (type, 1) or '1type' as a synonym of type is deprecated; in a future version of numpy, it will be understood as (type, (1,)) / '(1,)type'.\n",
      "  _np_quint8 = np.dtype([(\"quint8\", np.uint8, 1)])\n",
      "C:\\Users\\ehrme\\Anaconda3\\envs\\sugyeong_2019\\lib\\site-packages\\tensorflow\\python\\framework\\dtypes.py:518: FutureWarning: Passing (type, 1) or '1type' as a synonym of type is deprecated; in a future version of numpy, it will be understood as (type, (1,)) / '(1,)type'.\n",
      "  _np_qint16 = np.dtype([(\"qint16\", np.int16, 1)])\n",
      "C:\\Users\\ehrme\\Anaconda3\\envs\\sugyeong_2019\\lib\\site-packages\\tensorflow\\python\\framework\\dtypes.py:519: FutureWarning: Passing (type, 1) or '1type' as a synonym of type is deprecated; in a future version of numpy, it will be understood as (type, (1,)) / '(1,)type'.\n",
      "  _np_quint16 = np.dtype([(\"quint16\", np.uint16, 1)])\n",
      "C:\\Users\\ehrme\\Anaconda3\\envs\\sugyeong_2019\\lib\\site-packages\\tensorflow\\python\\framework\\dtypes.py:520: FutureWarning: Passing (type, 1) or '1type' as a synonym of type is deprecated; in a future version of numpy, it will be understood as (type, (1,)) / '(1,)type'.\n",
      "  _np_qint32 = np.dtype([(\"qint32\", np.int32, 1)])\n",
      "C:\\Users\\ehrme\\Anaconda3\\envs\\sugyeong_2019\\lib\\site-packages\\tensorflow\\python\\framework\\dtypes.py:525: FutureWarning: Passing (type, 1) or '1type' as a synonym of type is deprecated; in a future version of numpy, it will be understood as (type, (1,)) / '(1,)type'.\n",
      "  np_resource = np.dtype([(\"resource\", np.ubyte, 1)])\n",
      "C:\\Users\\ehrme\\Anaconda3\\envs\\sugyeong_2019\\lib\\site-packages\\tensorboard\\compat\\tensorflow_stub\\dtypes.py:541: FutureWarning: Passing (type, 1) or '1type' as a synonym of type is deprecated; in a future version of numpy, it will be understood as (type, (1,)) / '(1,)type'.\n",
      "  _np_qint8 = np.dtype([(\"qint8\", np.int8, 1)])\n",
      "C:\\Users\\ehrme\\Anaconda3\\envs\\sugyeong_2019\\lib\\site-packages\\tensorboard\\compat\\tensorflow_stub\\dtypes.py:542: FutureWarning: Passing (type, 1) or '1type' as a synonym of type is deprecated; in a future version of numpy, it will be understood as (type, (1,)) / '(1,)type'.\n",
      "  _np_quint8 = np.dtype([(\"quint8\", np.uint8, 1)])\n",
      "C:\\Users\\ehrme\\Anaconda3\\envs\\sugyeong_2019\\lib\\site-packages\\tensorboard\\compat\\tensorflow_stub\\dtypes.py:543: FutureWarning: Passing (type, 1) or '1type' as a synonym of type is deprecated; in a future version of numpy, it will be understood as (type, (1,)) / '(1,)type'.\n",
      "  _np_qint16 = np.dtype([(\"qint16\", np.int16, 1)])\n",
      "C:\\Users\\ehrme\\Anaconda3\\envs\\sugyeong_2019\\lib\\site-packages\\tensorboard\\compat\\tensorflow_stub\\dtypes.py:544: FutureWarning: Passing (type, 1) or '1type' as a synonym of type is deprecated; in a future version of numpy, it will be understood as (type, (1,)) / '(1,)type'.\n",
      "  _np_quint16 = np.dtype([(\"quint16\", np.uint16, 1)])\n",
      "C:\\Users\\ehrme\\Anaconda3\\envs\\sugyeong_2019\\lib\\site-packages\\tensorboard\\compat\\tensorflow_stub\\dtypes.py:545: FutureWarning: Passing (type, 1) or '1type' as a synonym of type is deprecated; in a future version of numpy, it will be understood as (type, (1,)) / '(1,)type'.\n",
      "  _np_qint32 = np.dtype([(\"qint32\", np.int32, 1)])\n",
      "C:\\Users\\ehrme\\Anaconda3\\envs\\sugyeong_2019\\lib\\site-packages\\tensorboard\\compat\\tensorflow_stub\\dtypes.py:550: FutureWarning: Passing (type, 1) or '1type' as a synonym of type is deprecated; in a future version of numpy, it will be understood as (type, (1,)) / '(1,)type'.\n",
      "  np_resource = np.dtype([(\"resource\", np.ubyte, 1)])\n"
     ]
    }
   ],
   "source": [
    "from nltk.corpus import stopwords\n",
    "from sklearn.feature_extraction.text import TfidfVectorizer\n",
    "import re\n",
    "from tensorflow.python.keras.preprocessing.text import Tokenizer\n",
    "from tensorflow.python.keras.preprocessing.sequence import pad_sequences\n",
    "import pandas as pd\n",
    "import numpy as np"
   ]
  },
  {
   "cell_type": "code",
   "execution_count": 2,
   "metadata": {},
   "outputs": [
    {
     "name": "stdout",
     "output_type": "stream",
     "text": [
      "Efficient shortest path query answering in large graphs is enjoying a growing number of applications, such as ranked keyword search in databases, social networks, ontology rea- soning and bioinformatics. A shortest path query on a graph finds the shortest path for the given source and target ver- tices in the graph. \n",
      "Current techniques for efficient evaluation of such queries are based on the pre-computation of compressed Breadth First Search trees of the graph. However, they suffer from drawbacks of scalability. To address these problems, we pro- pose TEDI, an indexing and query processing scheme for the shortest path query answering. TEDI is based on the tree decomposition methodology. The graph is first decomposed into a tree in which the node (a.k.a. bag) contains more than one vertex from the graph. The shortest paths are stored in such bags and these local paths together with the tree are the components of the index of the graph. Based on this index, a bottom-up operation can be executed to find the shortest path for any given source and target vertices. \n",
      "Our experimental results show that TEDI offers orders- of-magnitude performance improvement over existing ap- proaches on the index construction time, the index size and the query answering.\n",
      "\n",
      "Querying and manipulating large scale graph-like data have attracted much attention in the database community, due to the wide application areas of graph data, such as ranked keyword search, XML databases, bioinformatics, so- cial network, and ontologies. The shortest path query an- swering in a graph is among the fundamental operations on the graph data. \n",
      "In a ranked keyword search scenario over structured data, people usually give scores by measuring the link distance between two connected elements. If more than one path ex- ists, it is desirable to retrieve the shortest distance between them, because shorter distance normally means higher rank of the connected elements [19, 20, 12]. In a social network application such like Facebook 1, registered users can be considered as vertices and edges represent the friend rela- tionship between them. Normally two users are connected through different paths with various lengths. The problem of retrieving the shortest path among the users efficiently is of great importance. \n",
      "Let G = (V,E) be an undirected graph where n = |V |. Given u, v ∈ V , the shortest path problem finds a shortest path from u to v with respect to the length of paths from u to v. One obvious solution for the shortest path problem is to execute the Breadth First Search (BFS) on the graph. The time complexity of the BFS method is O(n). If the graph is of large size, the efficiency of query answering is expected to be improved. \n",
      "The query answering can be performed in constant time, if the BFS tree for each vertex of the graph is pre-computed. However, the space overhead is n2. This is obviously not affordable if n is of large value. Therefore, appropriate in- dexing and query scheme for answering shortest path queries must find the best trade-off between these two extreme meth- ods.Xiao et al.[23] proposed the concept of compact BFS-trees where the BFS-trees are compressed by exploiting the sym- metry property of the graphs. It is shown that the space cost for the compact BFS trees is reduced in comparison to the normal BFS trees. Moreover, shortest path query answer- ing is more efficient than the classic BFS-based algorithm. However, this approach suffers from scalability. Although the index size of the compact BFS-trees can be reduced by 40% or more (depending on the symmetric property of the graph), the space requirement is still prohibitively high. For instance, for a graph with 20 K vertices, the compact BFS- tree has the size of 744 MB, and the index construction takes \n",
      "1http://www.facebook.com \n",
      "99 \n",
      "performance more than 30 minutes. Therefore, this approach can not be \n",
      "improvement over existing algorithms. More- applied for graphs with larger size which contain hundreds \n",
      "over, we conduct the experiments over large graphs such as of thousands of vertices. \n",
      "DBLP and road networks. The encouraging results show 1.1 Our Contributions \n",
      "that TEDI scales well on large datasets. \n",
      "The rest of the paper is organized as follows: in Section 2 To overcome these difficulties, we propose TEDI (TreE \n",
      "we introduce the formal definitions of the tree decomposition Decomposition based Indexing), an indexing and query \n",
      "and prove the theoretical results regarding to the shortest processing scheme for the shortest path query answering. \n",
      "path query answering. Section 3 contains the detailed algo- Briefly stated, we first decompose the graph G into a tree \n",
      "rithms and the complexity analysis. In Section 4 we present in which each node contains a set of vertices in G. These \n",
      "the experimental results. We survey related works in Section tree nodes are called bags. Different from other partitioning \n",
      "5 and conclude in Section 6. based methods, there are overlapping among the bags, i.e., for any vertex v in G, there can be more than one bag in the tree which contains v. However, it is required that all these related bags constitute a connected subtree (see Definition 1 for the formal definition). Based on the decomposed tree, we can execute the shortest path search in a bottom-up manner and the query time is decided by the height and the bag cardinality of the tree, instead of the size of the graph. If both of these two parameters are small enough, the query time can be substantially improved. Of course, in order to compute the shortest paths along the tree, we have to pre-compute the local shortest paths among the vertices in every bag of the tree. This constitutes the major part of the index structure of the TEDI scheme. Our main contributions are the following: • Solid theoretical background. TEDI is based on the well-known concept of the tree decomposition, which is proved being of great importance in computational complexity theory. The abundant theoretical results provide a solid background for designing and correctness proofs of the TEDI algorithms. • Linear time tree decomposition algorithm. In spite of the theoretical importance of the tree decomposition concept, many results are practically useless due to the fact that finding a tree decomposition with optimal treewidth is an NP-hard problem, w.r.t. the size of the graph. To overcome this difficulty, we propose in TEDI the simple heuristics to achieve a linear time tree decomposition algorithm. To the best of our knowledge, TEDI is the first scheme that applies the tree decomposition heuristics dealing with graphs of large size, and based on that, enables efficient query answering algorithms to be developed. • Flexibility of balancing the time and space efficiency. From the proposed tree decomposition algorithm, we discover an important correlation between the query time and the index size. If less space for the index is available, we can reduce the index size by increasing some parameter k during the tree decomposition process, while the price to pay is longer query time. On the other hand, if the space is less critical, and the query time is more important, we can decrease k to achieve higher efficiency of the query answering. This flexibility offered by TEDI enables the users to choose the best time/space trade-off according to the system requirements. Finally we conduct experiments on real and synthetic datasets, and compare the results with the compact BFS-tree approach. The experimental results confirm our theoretical analysis by demonstrating that TEDI offers orders-of-magnitude performance improvement over existing algorithms. Moreover, we conduct the experiments over large graphs such as DBLP and road networks. The encouraging results show that TEDI scales well on large datasets. The rest of the paper is organized as follows: in Section 2 we introduce the formal definitions of the tree decomposition and prove the theoretical results regarding to the shortest path query answering. Section 3 contains the detailed algorithm and the complexity analysis. In Section 4 we present the experimental results. We survey related works in Section 5 and conclude in Section 6.\n"
     ]
    }
   ],
   "source": [
    "file_name = []\n",
    "for i in range(56):\n",
    "    file_name.append('file{0}'.format(i))\n",
    "\n",
    "def read_split_file(file_name):\n",
    "    file = open('C:/Users/ehrme/ml/{0}.txt'.format(file_name), 'r', encoding = 'utf-8')\n",
    "    name = file.read()\n",
    "    return name\n",
    "\n",
    "file_list = []\n",
    "for i in range(56):\n",
    "    file_list.append(read_split_file(file_name[i]))\n",
    "print(file_list[0])"
   ]
  },
  {
   "cell_type": "markdown",
   "metadata": {},
   "source": [
    "### 1. preprocessing"
   ]
  },
  {
   "cell_type": "code",
   "execution_count": 3,
   "metadata": {},
   "outputs": [
    {
     "name": "stdout",
     "output_type": "stream",
     "text": [
      "0    efficient shortest path query answering large ...\n",
      "Name: 0, dtype: object\n"
     ]
    }
   ],
   "source": [
    "file_name = []\n",
    "def preprocessing(file_list, remove_stopwords = False):\n",
    "    file = re.sub('[^a-zA-Z]', ' ', file_list)\n",
    "    words = file.lower().split()\n",
    "    \n",
    "    if remove_stopwords:\n",
    "        stops = set(stopwords.words('english'))\n",
    "        words = [w for w in words if not w in stops]\n",
    "        a = ' '.join(words)\n",
    "    else:\n",
    "        a = ' '.join(words)\n",
    "    return a\n",
    "\n",
    "for i in range(56):\n",
    "    file_name.append(preprocessing(file_list[i], remove_stopwords = True))\n",
    "\n",
    "df_file = pd.DataFrame(file_name)\n",
    "print(df_file.loc[0])"
   ]
  },
  {
   "cell_type": "markdown",
   "metadata": {},
   "source": [
    "### 2. Vectorize"
   ]
  },
  {
   "cell_type": "code",
   "execution_count": 4,
   "metadata": {},
   "outputs": [
    {
     "name": "stdout",
     "output_type": "stream",
     "text": [
      "(56, 20)\n",
      "['answering', 'based', 'bfs', 'decomposition', 'graph', 'index', 'large', 'path', 'query', 'results', 'section', 'shortest', 'size', 'space', 'tedi', 'theoretical', 'time', 'tree', 'trees', 'vertices']\n"
     ]
    }
   ],
   "source": [
    "#unigram\n",
    "vectorizer_uni = TfidfVectorizer(max_features = 20, encoding = 'utf-8', analyzer = 'word', min_df = 1)\n",
    "vectorizer_uni.fit_transform(df_file.loc[i])\n",
    "\n",
    "#55개 문서 dictionary\n",
    "tfidf_dicts = []\n",
    "fit_vector = np.zeros((1, 20), dtype = float)\n",
    "# 55개 문서에 대한 벡터화 값\n",
    "for i in range(0, len(df_file)):\n",
    "    fit_vector = np.vstack([fit_vector, vectorizer_uni.fit_transform(df_file.loc[i]).toarray()])\n",
    "    tfidf_dicts.append(vectorizer_uni.get_feature_names())\n",
    "\n",
    "fit_vector = np.delete(fit_vector,[0], axis = 0)\n",
    "\n",
    "print(fit_vector.shape)\n",
    "print(tfidf_dicts[0])"
   ]
  },
  {
   "cell_type": "code",
   "execution_count": 5,
   "metadata": {},
   "outputs": [
    {
     "name": "stdout",
     "output_type": "stream",
     "text": [
      "(56, 20)\n"
     ]
    }
   ],
   "source": [
    "#bigram\n",
    "vectorizer_bi = TfidfVectorizer(max_features = 20, encoding = 'utf-8', analyzer = 'word', \n",
    "                                stop_words = 'english', ngram_range = (2,2), min_df = 1)\n",
    "\n",
    "tfidf_dicts_bi = []\n",
    "fit_vector_bi = np.zeros((1, 20), dtype = float)\n",
    "# 55개 문서에 대한 벡터화 값\n",
    "for i in range(0, len(df_file)):\n",
    "    fit_vector_bi = np.vstack([fit_vector_bi, vectorizer_bi.fit_transform(df_file.loc[i]).toarray()])\n",
    "    tfidf_dicts_bi.append(vectorizer_bi.get_feature_names())\n",
    "\n",
    "fit_vector_bi = np.delete(fit_vector_bi,[0], axis = 0)\n",
    "\n",
    "print(fit_vector_bi.shape)"
   ]
  },
  {
   "cell_type": "code",
   "execution_count": 6,
   "metadata": {},
   "outputs": [
    {
     "name": "stdout",
     "output_type": "stream",
     "text": [
      "56\n"
     ]
    }
   ],
   "source": [
    "#trigram\n",
    "vectorizer_tri = TfidfVectorizer(max_features = 20, encoding = 'utf-8', analyzer = 'word', \n",
    "                                 stop_words = 'english', ngram_range = (3,3), min_df = 1)\n",
    "\n",
    "tfidf_dicts_tri = []\n",
    "fit_vector_tri = np.zeros((1, 20), dtype = float)\n",
    "# 55개 문서에 대한 벡터화 값\n",
    "for i in range(0, len(df_file)):\n",
    "    fit_vector_tri = np.vstack([fit_vector_tri, vectorizer_tri.fit_transform(df_file.loc[i]).toarray()])\n",
    "    tfidf_dicts_tri.append(vectorizer_tri.get_feature_names())\n",
    "\n",
    "fit_vector_tri = np.delete(fit_vector_tri,[0], axis = 0)\n",
    "\n",
    "print(len(tfidf_dicts_tri))"
   ]
  },
  {
   "cell_type": "code",
   "execution_count": 7,
   "metadata": {},
   "outputs": [
    {
     "name": "stdout",
     "output_type": "stream",
     "text": [
      "answering based bfs decomposition graph index large path query results section shortest size space tedi theoretical time tree trees vertices bfs tree bfs trees compact bfs conduct experiments decomposition algorithm efficiency query experimental results great importance improvement existing index size keyword search large graphs path query query answering query time ranked keyword shortest path shortest paths theoretical results tree decomposition compact bfs trees data ranked keyword datasets rest paper dblp road networks given source target introduce formal definitions magnitude performance improvement paper organized follows path given source path query answering prove theoretical results query answering section ranked keyword search related works section shortest path problem shortest path query tedi offers orders tedi scales large theoretical results regarding tree decomposition algorithm\n",
      "['answering', 'based', 'bfs', 'decomposition', 'graph', 'index', 'large', 'path', 'query', 'results', 'section', 'shortest', 'size', 'space', 'tedi', 'theoretical', 'time', 'tree', 'trees', 'vertices', 'bfs tree', 'bfs trees', 'compact bfs', 'conduct experiments', 'decomposition algorithm', 'efficiency query', 'experimental results', 'great importance', 'improvement existing', 'index size', 'keyword search', 'large graphs', 'path query', 'query answering', 'query time', 'ranked keyword', 'shortest path', 'shortest paths', 'theoretical results', 'tree decomposition', 'compact bfs trees', 'data ranked keyword', 'datasets rest paper', 'dblp road networks', 'given source target', 'introduce formal definitions', 'magnitude performance improvement', 'paper organized follows', 'path given source', 'path query answering', 'prove theoretical results', 'query answering section', 'ranked keyword search', 'related works section', 'shortest path problem', 'shortest path query', 'tedi offers orders', 'tedi scales large', 'theoretical results regarding', 'tree decomposition algorithm']\n"
     ]
    }
   ],
   "source": [
    "# 55개 문서 ubt 합친 60개 dictionary, string으로\n",
    "ubt_array = []\n",
    "ubt_list = []\n",
    "for i in range(len(df_file)):\n",
    "    globals()['ubt_dict{0}'.format(i)] = tfidf_dicts[i] + tfidf_dicts_bi[i] + tfidf_dicts_tri[i]\n",
    "    ubt_array.append(globals()['ubt_dict{0}'.format(i)])\n",
    "    ubt_list.append(' '.join(globals()['ubt_dict{0}'.format(i)]))\n",
    "print(ubt_list[0])\n",
    "print(ubt_array[0])"
   ]
  },
  {
   "cell_type": "code",
   "execution_count": 8,
   "metadata": {},
   "outputs": [
    {
     "name": "stdout",
     "output_type": "stream",
     "text": [
      "(55, 60)\n"
     ]
    }
   ],
   "source": [
    "#ubt_df = 전체 문서의 uni+bi+tri와 각 문서의 벡터화된 값의 데이터프레임\n",
    "ubt_vector = np.zeros((1, 20), dtype = float)\n",
    "\n",
    "ubt_vector = np.vstack([ubt_vector, fit_vector])\n",
    "ubt_vector = np.delete(ubt_vector,[0], axis = 0)\n",
    "ubt_vector = np.hstack([ubt_vector, fit_vector_bi])\n",
    "ubt_vector = np.hstack([ubt_vector, fit_vector_tri])\n",
    "\n",
    "print(ubt_vector[:55].shape)"
   ]
  },
  {
   "cell_type": "markdown",
   "metadata": {},
   "source": [
    "### 3. k-means clustering"
   ]
  },
  {
   "cell_type": "code",
   "execution_count": 39,
   "metadata": {},
   "outputs": [
    {
     "name": "stdout",
     "output_type": "stream",
     "text": [
      "[1 0 6 2 0 2 3 0 0 2 0 2 1 5 7 0 6 0 6 0 2 0 6 7 6 2 4 2 6 9 0 0 0 0 1 2 2\n",
      " 8 0 2 1 0 8 1 1 0 0 0 2 5 7 2 2 7 9]\n"
     ]
    }
   ],
   "source": [
    "from sklearn.cluster import KMeans\n",
    "import numpy as np\n",
    "\n",
    "kmeans = KMeans(n_clusters=10).fit(ubt_vector[:55])\n",
    "labels = list(kmeans.labels_)\n",
    "clustering = pd.DataFrame({'ubt_list': ubt_list[:55], 'class': kmeans.labels_})\n",
    "#print(clustering)\n",
    "print(kmeans.labels_)"
   ]
  },
  {
   "cell_type": "code",
   "execution_count": 11,
   "metadata": {},
   "outputs": [
    {
     "data": {
      "image/png": "[encoded data removed]",
      "text/plain": [
       "<Figure size 1440x1080 with 1 Axes>"
      ]
     },
     "metadata": {
      "needs_background": "light"
     },
     "output_type": "display_data"
    }
   ],
   "source": [
    "from sklearn.datasets.samples_generator import make_blobs\n",
    "X, y_true = make_blobs(n_samples = len(ubt_list[:55]), centers=10,\n",
    "                       cluster_std=0.50, random_state = 10)\n",
    "plt.figure(figsize = (20, 15))\n",
    "plt.scatter(X[:, 0], X[:, 1], c=kmeans.labels_, s=50, cmap='viridis')\n",
    "\n",
    "centers = kmeans.cluster_centers_\n",
    "plt.scatter(centers[:, 0], centers[:, 1], c='red', s=200, alpha=0.5);\n",
    "\n",
    "plt.savefig('clustering.png')"
   ]
  },
  {
   "cell_type": "markdown",
   "metadata": {},
   "source": [
    "### 4. Similarity"
   ]
  },
  {
   "cell_type": "markdown",
   "metadata": {},
   "source": [
    "#### 4-1. 비교파일 가져오기"
   ]
  },
  {
   "cell_type": "code",
   "execution_count": 19,
   "metadata": {},
   "outputs": [
    {
     "name": "stdout",
     "output_type": "stream",
     "text": [
      "[0.7956233369014464, 0.8052782041453079, 0.8038269300348283, 0.8647271629098376, 0.827275265893008, 0.8058526549142992, 0.7950441399118741, 0.8799921791143105, 0.8675614204557532, 0.8103801405901622, 0.800954822251908, 0.8341117181308486, 0.8360610954696771, 0.7998875714643021, 0.7960658077171603, 0.8201473914155684, 0.8604999467896153, 0.793688180081453, 0.812016909058173, 0.8562326703436988, 0.8421628767821383, 0.8191501492884878, 0.8205963162093185, 0.7368338991208178, 0.7742926647524473, 0.7454576386837446, 0.71738960026303, 0.8746524728750789, 0.7413244740428824, 0.7883904660170874, 0.8895034668308989, 0.8749572489557355, 0.8454695050043332, 0.8575983682332369, 0.8881705561842769, 0.8357612058951738, 0.8111397251711165, 0.8238985344692256, 0.8056865920093347, 0.7974074403206154, 0.8834108332789441, 0.8384766629259517, 0.8241065604040172, 0.7852189998464807, 0.838640241315799, 0.8580445406165637, 0.8327215859633388, 0.793761556705687, 0.8857117334194059, 0.7898797852615018, 0.7937593971425214, 0.8025630403406097, 0.8244077726440439, 0.8144493020918132, 0.7434918268690793, 1.0000000000000002]\n",
      "[0.008403361344537815, 0.01694915254237288, 0.008403361344537815, 0.0, 0.01694915254237288, 0.008403361344537815, 0.008403361344537815, 0.02564102564102564, 0.0, 0.034482758620689655, 0.01694915254237288, 0.01694915254237288, 0.01694915254237288, 0.01694915254237288, 0.01694915254237288, 0.01694915254237288, 0.01694915254237288, 0.008403361344537815, 0.008403361344537815, 0.008403361344537815, 0.008403361344537815, 0.008403361344537815, 0.0, 0.043478260869565216, 0.02564102564102564, 0.01694915254237288, 0.02564102564102564, 0.01694915254237288, 0.01694915254237288, 0.01694915254237288, 0.008403361344537815, 0.01694915254237288, 0.01694915254237288, 0.008403361344537815, 0.008403361344537815, 0.0, 0.01694915254237288, 0.02564102564102564, 0.0, 0.01694915254237288, 0.008403361344537815, 0.01694915254237288, 0.0, 0.0, 0.0, 0.01694915254237288, 0.0, 0.01694915254237288, 0.01694915254237288, 0.0, 0.01694915254237288, 0.008403361344537815, 0.008403361344537815, 0.034482758620689655, 0.0, 1.0]\n",
      "[0.13510279205263231, 0.14520021514581508, 0.13339172942440364, 0.1724809025536198, 0.14691958181066034, 0.16291682753800413, 0.1363148245046586, 0.1738413416069033, 0.16063419399767961, 0.14315805894586023, 0.13879998314583109, 0.16620157666901333, 0.141925634753546, 0.136230004233633, 0.13709906632799274, 0.1675504154401312, 0.16616158153602645, 0.14873089227551928, 0.14859043720749612, 0.16957338272290176, 0.1745354634902968, 0.14097611577427754, 0.13918372152591665, 0.11934282656330501, 0.14683821356300053, 0.13258014199497098, 0.1310437176730949, 0.17325988576727278, 0.12911977109464723, 0.14950567730791417, 0.20050786564603737, 0.16230684319779395, 0.1546716794122062, 0.1703544609576883, 0.1686529680114679, 0.16460244187892606, 0.13277383965058182, 0.16070941636971275, 0.1546105239174193, 0.1388088137153601, 0.18175496585612685, 0.1563025570714599, 0.15951403495247682, 0.13535152231552644, 0.15268052241430197, 0.16382615388895433, 0.1474452430702332, 0.1436437411305852, 0.18395304865893566, 0.1363888750035547, 0.13583997446879684, 0.14183900854338477, 0.14091099005100333, 0.14549923647916838, 0.1320308358055626, 1.0]\n",
      "[0.47452596675151726, 0.48056279490926035, 0.47963608707080657, 0.5260641099031825, 0.49553719536532925, 0.48093155612615146, 0.47417315271962124, 0.5409628459700506, 0.5287030105205489, 0.4838774015390853, 0.47782255919552596, 0.5005851558269097, 0.5020627363837857, 0.47715547315235646, 0.4747961864864866, 0.4904834163505454, 0.5222266952452594, 0.47335116342645295, 0.48496001264479116, 0.5184665445738991, 0.5068036018121778, 0.48979250302578264, 0.490795705715408, 0.443148222771973, 0.4621670294951099, 0.4472629459640524, 0.4343716507417643, 0.535553111732355, 0.4452727994624215, 0.4701920204058511, 0.5511964046396115, 0.5358558612004136, 0.5094494190398807, 0.5196579059465569, 0.5497128253688839, 0.5018342891891412, 0.4843786300378864, 0.4931173687789934, 0.48082484004611076, 0.4756192187771316, 0.5445489832933783, 0.503918191733625, 0.49326508922797135, 0.46833952983270144, 0.5040448382139106, 0.5200495519330185, 0.49954202957419647, 0.4733955025903214, 0.5470196429305186, 0.47107184153312776, 0.4733941974035871, 0.47883471396986305, 0.4934792938250842, 0.4865866767276322, 0.4463121811340551, 1.0]\n"
     ]
    }
   ],
   "source": [
    "from numpy import dot\n",
    "from numpy.linalg import norm\n",
    "import math\n",
    "from pyjarowinkler import distance\n",
    "\n",
    "#코사인 유사도\n",
    "def Cos_sim(doc1, doc2):\n",
    "    return dot(doc1, doc2)/(norm(doc1)*norm(doc2))\n",
    "\n",
    "def Jaccard_sim(doc1, doc2):\n",
    "    doc1 = set(doc1)\n",
    "    doc2 = set(doc2)\n",
    "    return len(doc1 & doc2) / len(doc1 | doc2)\n",
    "\n",
    "def Manhattan_sim(doc1, doc2):\n",
    "    return 1/ (1 + (sum(abs(a-b) for a,b in zip(doc1, doc2))))\n",
    "\n",
    "def Euclidean_distance(doc1, doc2):\n",
    "    return 1/ (1+ math.sqrt(sum(pow(a-b,2) for a, b in zip(doc1, doc2))))\n",
    "\n",
    "cos = []\n",
    "jaccard = []\n",
    "man = []\n",
    "euc = []\n",
    "\n",
    "for i in range(56):\n",
    "    cos.append(Cos_sim(ubt_vector[i], ubt_vector[55]))\n",
    "    jaccard.append(Jaccard_sim(ubt_array[i], ubt_array[55]))\n",
    "    man.append(Manhattan_sim(ubt_vector[i], ubt_vector[55]))\n",
    "    euc.append(Euclidean_distance(ubt_vector[i], ubt_vector[55]))\n",
    "    \n",
    "print(cos)\n",
    "print(jaccard)\n",
    "print(man)\n",
    "print(euc)"
   ]
  },
  {
   "cell_type": "markdown",
   "metadata": {},
   "source": [
    "### pd 생성"
   ]
  },
  {
   "cell_type": "code",
   "execution_count": 42,
   "metadata": {},
   "outputs": [],
   "source": [
    "import pandas as pd\n",
    "pds = pd.DataFrame({\"unigram\":tfidf_dicts})\n",
    "pds[\"bigram\"] = pd.DataFrame({\"bigram\":tfidf_dicts_bi})\n",
    "pds[\"trigram\"] = pd.DataFrame({\"trigram\":tfidf_dicts_tri})\n",
    "pds[\"uni+bi+tri\"] = pd.DataFrame({\"uni+bi+tri\":ubt_list})\n",
    "pds[\"cosine similarity\"] = pd.DataFrame({\"cosine similarity\":cos})\n",
    "pds[\"jaccard similarity\"] = pd.DataFrame({\"jaccard similarity\":jaccard})\n",
    "pds[\"manhattan similarity\"] = pd.DataFrame({\"manhattan similarity\":man})\n",
    "pds[\"euclidean similarity\"] = pd.DataFrame({\"euclidean similarity\":euc})\n",
    "pds[\"kmeans\"] = pd.DataFrame({\"kmeans\":labels[:55]})"
   ]
  },
  {
   "cell_type": "code",
   "execution_count": 44,
   "metadata": {
    "scrolled": true
   },
   "outputs": [
    {
     "name": "stdout",
     "output_type": "stream",
     "text": [
      "                                              unigram  \\\n",
      "0   [answering, based, bfs, decomposition, graph, ...   \n",
      "1   [based, cluster, clustering, clusters, data, d...   \n",
      "2   [algorithms, bottlenecks, code, data, differen...   \n",
      "3   [ckg, cluster, clusters, discover, discovering...   \n",
      "4   [analytics, based, data, hadoop, incremental, ...   \n",
      "5   [analysis, analyst, analysts, analytics, data,...   \n",
      "6   [best, community, degree, example, find, given...   \n",
      "7   [based, cm, count, data, distributed, ecm, err...   \n",
      "8   [algorithm, algorithms, based, dimensional, lo...   \n",
      "9   [algorithm, branch, continuous, efficiency, ef...   \n",
      "10  [access, based, communication, cost, data, dif...   \n",
      "11  [analysis, application, cache, cluster, data, ...   \n",
      "12  [based, cell, data, dimensional, grid, high, i...   \n",
      "13  [also, client, conversion, data, database, emp...   \n",
      "14  [advanced, analysis, architecture, based, capa...   \n",
      "15  [apollo, cache, caching, client, clients, data...   \n",
      "16  [anomalies, cep, cluster, data, example, expla...   \n",
      "17  [ai, algorithm, capture, condition, cost, doma...   \n",
      "18  [answer, candidate, communication, cost, figur...   \n",
      "19  [approach, figure, filter, graph, index, netwo...   \n",
      "20  [algorithm, analysis, approach, asked, asking,...   \n",
      "21  [algorithms, based, bfs, core, graph, graphs, ...   \n",
      "22  [algorithm, based, channel, channels, example,...   \n",
      "23  [catalog, cost, data, estimating, estimation, ...   \n",
      "24  [aragonlb, architecture, aware, communication,...   \n",
      "25  [application, aware, caesar, con, context, con...   \n",
      "26  [correlated, data, linearly, measurements, mis...   \n",
      "27  [attributes, ccs, constraints, data, database,...   \n",
      "28  [algebra, algorithms, data, database, dense, d...   \n",
      "29  [algorithm, approach, based, best, class, clas...   \n",
      "30  [analytics, cache, caching, dataset, datasets,...   \n",
      "31  [anonymity, anonymization, data, distortion, f...   \n",
      "32  [answers, certain, constraints, data, disjunct...   \n",
      "33  [across, algorithm, algorithms, datasets, fram...   \n",
      "34  [ans, answers, bob, conf, data, disease, distr...   \n",
      "35  [approach, art, associated, associations, base...   \n",
      "36  [data, event, events, latency, matching, order...   \n",
      "37  [absolute, applied, data, efficient, emd, feat...   \n",
      "38  [affinities, affinity, consensus, functions, g...   \n",
      "39  [application, benchmark, benchmarks, data, dev...   \n",
      "40  [accesses, algorithm, algorithms, bag, cache, ...   \n",
      "41  [based, computing, graph, kpj, ksp, lower, net...   \n",
      "42  [behavior, click, dect, els, first, higher, in...   \n",
      "43  [avoiding, distance, edge, failure, failures, ...   \n",
      "44  [database, framework, knn, labeling, latest, m...   \n",
      "45  [annotation, annotations, attached, based, cla...   \n",
      "46  [analysis, applications, bound, chet, dfd, dis...   \n",
      "47  [arbitrary, character, data, deterministic, in...   \n",
      "48  [adr, data, databases, description, detection,...   \n",
      "49  [advertising, bid, blogging, cost, expertise, ...   \n",
      "50  [algorithm, algorithms, basic, characteristics...   \n",
      "51  [also, base, bases, data, different, features,...   \n",
      "52  [based, information, interest, paper, photos, ...   \n",
      "53  [based, data, execution, first, grid, incremen...   \n",
      "54  [algorithmic, algorithms, ano, anomalies, anom...   \n",
      "55  [continuous, data, execution, jisc, migration,...   \n",
      "\n",
      "                                               bigram  \\\n",
      "0   [bfs tree, bfs trees, compact bfs, conduct exp...   \n",
      "1   [based clustering, clustering places, dcpgs fr...   \n",
      "2   [cpu utilization, end users, frame works, gap ...   \n",
      "3   [biconnected components, complete cliques, cyc...   \n",
      "4   [bottlenecks blocking, fast memory, hash techn...   \n",
      "5   [ability apply, advanced statistical, amounts ...   \n",
      "6   [average degree, best community, commu nity, c...   \n",
      "7   [ar br, based sliding, cm sw, count based, cou...   \n",
      "8   [approximate algorithms, binary vectors, clust...   \n",
      "9   [base station, basic algorithm, bound algorith...   \n",
      "10  [access pattern, access patterns, communicatio...   \n",
      "11  [analysis routines, application aware, cache q...   \n",
      "12  [based algorithms, cell phone, cell phones, da...   \n",
      "13  [conversion function, conversion functions, cr...   \n",
      "14  [advanced features, based physical, capac ity,...   \n",
      "15  [dependency graph, doi org, edge nodes, future...   \n",
      "16  [anomalous behaviors, cep monitoring, cep tech...   \n",
      "17  [capture fraudulent, credit card, domain exper...   \n",
      "18  [answer sanitation, candidate queries, candida...   \n",
      "19  [baseline approach, clique query, deg nei, ind...   \n",
      "20  [alternative approach, asking crowd, asking us...   \n",
      "21  [art bfs, bfs algorithms, bfs based, core numa...   \n",
      "22  [based notion, cascade model, central notion, ...   \n",
      "23  [based services, block sample, catalog merge, ...   \n",
      "24  [architecture aware, aware graph, classic grap...   \n",
      "25  [application contexts, appropriate event, awar...   \n",
      "26  [case matching, derived values, linearly corre...   \n",
      "27  [big data, data regeneration, database summary...   \n",
      "28  [algebra expressions, data base, data scientis...   \n",
      "29  [based shapelet, based techniques, bell funnel...   \n",
      "30  [analytics queries, cache admission, cache rep...   \n",
      "31  [anonymization algorithms, anonymization disto...   \n",
      "32  [answers target, certain answers, certain quer...   \n",
      "33  [algorithm specific, filter verify, ftv nfv, g...   \n",
      "34  [ans ans, contribution section, data set, diff...   \n",
      "35  [anti monotonicity, associated location, colle...   \n",
      "36  [end timestamp, event processing, event stream...   \n",
      "37  [absolute signatures, data objects, earth move...   \n",
      "38  [ad hoc, affinities group, affinity group, aff...   \n",
      "39  [abstraction layers, configuration description...   \n",
      "40  [ca grqc, case optimal, case optimality, curve...   \n",
      "41  [best paradigm, bounding approach, computing s...   \n",
      "42  [ad click, anomaly detection, behavior mod, be...   \n",
      "43  [avoiding failed, distance labeling, distance ...   \n",
      "44  [arrival latest, earliest arrival, hub labelin...   \n",
      "45  [anno tations, annotation management, annotati...   \n",
      "46  [based solution, bound functions, chet distanc...   \n",
      "47  [associated probability, construction time, et...   \n",
      "48  [adr reports, adverse drug, classification res...   \n",
      "49  [advertising platforms, algorithm called, bid ...   \n",
      "50  [algo rithms, basic techniques, compression al...   \n",
      "51  [aggregation methods, base features, base matc...   \n",
      "52  [based services, center london, identifying de...   \n",
      "53  [bids box, box bids, cumulative time, data ins...   \n",
      "54  [ano malies, ano maly, anomalies approach, ano...   \n",
      "55  [compromising correctness, continuous query, c...   \n",
      "\n",
      "                                              trigram  \\\n",
      "0   [compact bfs trees, data ranked keyword, datas...   \n",
      "1   [according dcpgs framework, belong geo social,...   \n",
      "2   [bridge performance gap, end users choice, gap...   \n",
      "3   [clusters highly dynamic, clusters massive hig...   \n",
      "4   [cpu bottlenecks blocking, data analysis platf...   \n",
      "5   [ability apply sophisticated, analytics platfo...   \n",
      "6   [algorithms local search, best community given...   \n",
      "7   [based count based, based exponential histogra...   \n",
      "8   [clustering algorithm exploits, discard irrele...   \n",
      "9   [base station continuously, bound algorithm de...   \n",
      "10  [access pattern selection, access patterns imp...   \n",
      "11  [application aware cache, application independ...   \n",
      "12  [data set products, different sizes data, give...   \n",
      "13  [client presentation push, conference manageme...   \n",
      "14  [capac ity planning, capacity plan ning, compa...   \n",
      "15  [acm new york, acm org citation, adapt changin...   \n",
      "16  [anomalies cep monitoring, anomalous behaviors...   \n",
      "17  [amt location gas, amt time amt, capture fraud...   \n",
      "18  [arrange real locations, candidate query list,...   \n",
      "19  [deg nei netw, filter degree filter, filter ne...   \n",
      "20  [approach uses crowd, asked attribute answers,...   \n",
      "21  [art bfs algorithms, core numa aware, gpu base...   \n",
      "22  [central notion study, influence reachability ...   \n",
      "23  [catalog merge technique, catalog merge virtua...   \n",
      "24  [architecture aware graph, aware graph partiti...   \n",
      "25  [algebra context aware, appropriate event quer...   \n",
      "26  [case matching tkcm, contrast previous work, c...   \n",
      "27  [acm sigmod intl, additional consistency const...   \n",
      "28  [algebra expressions contain, efficient linear...   \n",
      "29  [best rep pattern, best representative pattern...   \n",
      "30  [admission control mechanism, cache admission ...   \n",
      "31  [anonymization methods based, aware trajectory...   \n",
      "32  [answers target queries, certain answers targe...   \n",
      "33  [abbreviated sub iso, ftv nfv methods, large p...   \n",
      "34  [based privacy criteria, considers nir non, di...   \n",
      "35  [aggregate popularity ap, anti monotonicity pr...   \n",
      "36  [allen interval algebra, complex event process...   \n",
      "37  [analyzing earth flows, computational time com...   \n",
      "38  [account user affinities, ad hoc groups, affin...   \n",
      "39  [configuration description language, developme...   \n",
      "40  [algorithms relations scanned, ca grqc dataset...   \n",
      "41  [accounts involved shortest, art algorithm ksp...   \n",
      "42  [behavior mod els, dect anomaly detection, dec...   \n",
      "43  [avoiding failed edge, compute shortest path, ...   \n",
      "44  [arrival latest departure, based public transp...   \n",
      "45  [annotation management engine, annotation summ...   \n",
      "46  [apply directly motif, based solution multi, c...   \n",
      "47  [character level model, constant known constru...   \n",
      "48  [adverse drug reaction, databases adverse drug...   \n",
      "49  [given query topic, large dataset twitter, med...   \n",
      "50  [data compression algorithms, different data c...   \n",
      "51  [base web tables, bases dbpedia yago, class ma...   \n",
      "52  [datasets containing road, diverse set relevan...   \n",
      "53  [bids box bids, box bids box, cost incremental...   \n",
      "54  [anomalies time series, anomaly detection time...   \n",
      "55  [avoiding operator states, based query evaluat...   \n",
      "\n",
      "                                           uni+bi+tri  cosine similarity  \\\n",
      "0   answering based bfs decomposition graph index ...           0.795623   \n",
      "1   based cluster clustering clusters data dcpgs d...           0.805278   \n",
      "2   algorithms bottlenecks code data different end...           0.803827   \n",
      "3   ckg cluster clusters discover discovering dyna...           0.864727   \n",
      "4   analytics based data hadoop incremental key la...           0.827275   \n",
      "5   analysis analyst analysts analytics data deep ...           0.805853   \n",
      "6   best community degree example find given globa...           0.795044   \n",
      "7   based cm count data distributed ecm error expo...           0.879992   \n",
      "8   algorithm algorithms based dimensional low man...           0.867561   \n",
      "9   algorithm branch continuous efficiency efficie...           0.810380   \n",
      "10  access based communication cost data different...           0.800955   \n",
      "11  analysis application cache cluster data databa...           0.834112   \n",
      "12  based cell data dimensional grid high index pr...           0.836061   \n",
      "13  also client conversion data database employees...           0.799888   \n",
      "14  advanced analysis architecture based capacity ...           0.796066   \n",
      "15  apollo cache caching client clients data datab...           0.820147   \n",
      "16  anomalies cep cluster data example explanation...           0.860500   \n",
      "17  ai algorithm capture condition cost domain fra...           0.793688   \n",
      "18  answer candidate communication cost figure gro...           0.812017   \n",
      "19  approach figure filter graph index network one...           0.856233   \n",
      "20  algorithm analysis approach asked asking attri...           0.842163   \n",
      "21  algorithms based bfs core graph graphs ms mult...           0.819150   \n",
      "22  algorithm based channel channels example graph...           0.820596   \n",
      "23  catalog cost data estimating estimation introd...           0.736834   \n",
      "24  aragonlb architecture aware communication cont...           0.774293   \n",
      "25  application aware caesar con context contexts ...           0.745458   \n",
      "26  correlated data linearly measurements missing ...           0.717390   \n",
      "27  attributes ccs constraints data database datas...           0.874652   \n",
      "28  algebra algorithms data database dense density...           0.741324   \n",
      "29  algorithm approach based best class classes cl...           0.788390   \n",
      "30  analytics cache caching dataset datasets diffe...           0.889503   \n",
      "31  anonymity anonymization data distortion figure...           0.874957   \n",
      "32  answers certain constraints data disjunctive e...           0.845470   \n",
      "33  across algorithm algorithms datasets framework...           0.857598   \n",
      "34  ans answers bob conf data disease distribution...           0.888171   \n",
      "35  approach art associated associations based key...           0.835761   \n",
      "36  data event events latency matching order patte...           0.811140   \n",
      "37  absolute applied data efficient emd feature fe...           0.823899   \n",
      "38  affinities affinity consensus functions greca ...           0.805687   \n",
      "39  application benchmark benchmarks data develope...           0.797407   \n",
      "40  accesses algorithm algorithms bag cache cachin...           0.883411   \n",
      "41  based computing graph kpj ksp lower networks n...           0.838477   \n",
      "42  behavior click dect els first higher internet ...           0.824107   \n",
      "43  avoiding distance edge failure failures graph ...           0.785219   \n",
      "44  database framework knn labeling latest many ne...           0.838640   \n",
      "45  annotation annotations attached based classbir...           0.858045   \n",
      "46  analysis applications bound chet dfd discovery...           0.832722   \n",
      "47  arbitrary character data deterministic index i...           0.793762   \n",
      "48  adr data databases description detection drug ...           0.885712   \n",
      "49  advertising bid blogging cost expertise expert...           0.789880   \n",
      "50  algorithm algorithms basic characteristics com...           0.793759   \n",
      "51  also base bases data different features gold k...           0.802563   \n",
      "52  based information interest paper photos poi po...           0.824408   \n",
      "53  based data execution first grid incremental in...           0.814449   \n",
      "54  algorithmic algorithms ano anomalies anomaly c...           0.743492   \n",
      "55  continuous data execution jisc migration new o...           1.000000   \n",
      "\n",
      "    jaccard similarity  manhattan similarity  euclidean similarity  kmeans  \n",
      "0             0.008403              0.135103              0.474526     1.0  \n",
      "1             0.016949              0.145200              0.480563     0.0  \n",
      "2             0.008403              0.133392              0.479636     6.0  \n",
      "3             0.000000              0.172481              0.526064     2.0  \n",
      "4             0.016949              0.146920              0.495537     0.0  \n",
      "5             0.008403              0.162917              0.480932     2.0  \n",
      "6             0.008403              0.136315              0.474173     3.0  \n",
      "7             0.025641              0.173841              0.540963     0.0  \n",
      "8             0.000000              0.160634              0.528703     0.0  \n",
      "9             0.034483              0.143158              0.483877     2.0  \n",
      "10            0.016949              0.138800              0.477823     0.0  \n",
      "11            0.016949              0.166202              0.500585     2.0  \n",
      "12            0.016949              0.141926              0.502063     1.0  \n",
      "13            0.016949              0.136230              0.477155     5.0  \n",
      "14            0.016949              0.137099              0.474796     7.0  \n",
      "15            0.016949              0.167550              0.490483     0.0  \n",
      "16            0.016949              0.166162              0.522227     6.0  \n",
      "17            0.008403              0.148731              0.473351     0.0  \n",
      "18            0.008403              0.148590              0.484960     6.0  \n",
      "19            0.008403              0.169573              0.518467     0.0  \n",
      "20            0.008403              0.174535              0.506804     2.0  \n",
      "21            0.008403              0.140976              0.489793     0.0  \n",
      "22            0.000000              0.139184              0.490796     6.0  \n",
      "23            0.043478              0.119343              0.443148     7.0  \n",
      "24            0.025641              0.146838              0.462167     6.0  \n",
      "25            0.016949              0.132580              0.447263     2.0  \n",
      "26            0.025641              0.131044              0.434372     4.0  \n",
      "27            0.016949              0.173260              0.535553     2.0  \n",
      "28            0.016949              0.129120              0.445273     6.0  \n",
      "29            0.016949              0.149506              0.470192     9.0  \n",
      "30            0.008403              0.200508              0.551196     0.0  \n",
      "31            0.016949              0.162307              0.535856     0.0  \n",
      "32            0.016949              0.154672              0.509449     0.0  \n",
      "33            0.008403              0.170354              0.519658     0.0  \n",
      "34            0.008403              0.168653              0.549713     1.0  \n",
      "35            0.000000              0.164602              0.501834     2.0  \n",
      "36            0.016949              0.132774              0.484379     2.0  \n",
      "37            0.025641              0.160709              0.493117     8.0  \n",
      "38            0.000000              0.154611              0.480825     0.0  \n",
      "39            0.016949              0.138809              0.475619     2.0  \n",
      "40            0.008403              0.181755              0.544549     1.0  \n",
      "41            0.016949              0.156303              0.503918     0.0  \n",
      "42            0.000000              0.159514              0.493265     8.0  \n",
      "43            0.000000              0.135352              0.468340     1.0  \n",
      "44            0.000000              0.152681              0.504045     1.0  \n",
      "45            0.016949              0.163826              0.520050     0.0  \n",
      "46            0.000000              0.147445              0.499542     0.0  \n",
      "47            0.016949              0.143644              0.473396     0.0  \n",
      "48            0.016949              0.183953              0.547020     2.0  \n",
      "49            0.000000              0.136389              0.471072     5.0  \n",
      "50            0.016949              0.135840              0.473394     7.0  \n",
      "51            0.008403              0.141839              0.478835     2.0  \n",
      "52            0.008403              0.140911              0.493479     2.0  \n",
      "53            0.034483              0.145499              0.486587     7.0  \n",
      "54            0.000000              0.132031              0.446312     9.0  \n",
      "55            1.000000              1.000000              1.000000     NaN  \n"
     ]
    }
   ],
   "source": [
    "print(pds)\n",
    "pds.to_csv('data.csv', encoding = 'utf-8')"
   ]
  }
 ],
 "metadata": {
  "kernelspec": {
   "display_name": "Python 3",
   "language": "python",
   "name": "python3"
  },
  "language_info": {
   "codemirror_mode": {
    "name": "ipython",
    "version": 3
   },
   "file_extension": ".py",
   "mimetype": "text/x-python",
   "name": "python",
   "nbconvert_exporter": "python",
   "pygments_lexer": "ipython3",
   "version": "3.7.5"
  }
 },
 "nbformat": 4,
 "nbformat_minor": 2
}
