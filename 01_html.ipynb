{
 "cells": [
  {
   "cell_type": "code",
   "execution_count": 45,
   "metadata": {},
   "outputs": [],
   "source": [
    "file_list = ['p99','p99shi','p979satish','p980_manojkagarwal_vldb2012',\n",
    "             'p985','p987','p991cui','p992_odysseaspapapetrou_vldb2012','p997', 'paper1', 'paper10',\n",
    "            'paper11', 'paper11_2', 'paper11_2_2', 'paper12', 'paper100', 'paper101', 'paper102',\n",
    "            'paper103', 'paper105', 'paper106', 'paper107', 'paper108', 'paper109',\n",
    "            'paper110', 'paper112', 'paper112_2', 'paper114', 'paper117', 'paper119', 'paper119_2',\n",
    "            'paper120', 'paper124', 'paper124_2', 'paper125', 'paper125_2', 'paper126', 'paper128',\n",
    "            'paper129', 'paper131', 'paper131_2', 'paper132', 'paper133', 'paper134', 'paper136',\n",
    "            'paper137', 'paper138', 'paper139', 'paper142', 'paper145', 'paper146', 'paper148',\n",
    "            'paper150', 'paper153', 'paper155']"
   ]
  },
  {
   "cell_type": "code",
   "execution_count": 55,
   "metadata": {},
   "outputs": [
    {
     "name": "stdout",
     "output_type": "stream",
     "text": [
      "55\n"
     ]
    }
   ],
   "source": [
    "from bs4 import BeautifulSoup\n",
    "\n",
    "extract = list()\n",
    "def html(file):\n",
    "    fp = open('C:/Users/ehrme/ml/16_html/{0}.html'.format(file), 'r')\n",
    "    html = BeautifulSoup(fp, 'html.parser')\n",
    "    data = []\n",
    "    for i in range(20):\n",
    "        data += [html.select('span')[i].text.strip()]\n",
    "    return extract.append(data)\n",
    "\n",
    "for i in range(55):\n",
    "    html(file_list[i])\n",
    "\n",
    "print(len(extract))"
   ]
  },
  {
   "cell_type": "code",
   "execution_count": 47,
   "metadata": {},
   "outputs": [],
   "source": [
    "import re\n",
    "only = []\n",
    "title = []\n",
    "name = []\n",
    "where = []\n",
    "name2 = []\n",
    "\n",
    "for i in extract:\n",
    "    if i[0][:6] == 'Series':\n",
    "        title.append(i[2])\n",
    "        name.append(i[3])\n",
    "        where.append(i[4])\n",
    "        name2.append(i[5])\n",
    "    else:\n",
    "        title.append(i[0])\n",
    "        name.append(i[1])\n",
    "        where.append(i[2])\n",
    "        name2.append(i[3])\n",
    "    "
   ]
  },
  {
   "cell_type": "code",
   "execution_count": 48,
   "metadata": {},
   "outputs": [],
   "source": [
    "import pandas as pd\n",
    "pd = pd.DataFrame({'file':file_list, 'title': title, 'name': name, 'where': where, 'name2': name2})\n",
    "pd.to_csv('1.csv', encoding = 'utf-8')"
   ]
  },
  {
   "cell_type": "code",
   "execution_count": null,
   "metadata": {},
   "outputs": [],
   "source": []
  },
  {
   "cell_type": "code",
   "execution_count": null,
   "metadata": {},
   "outputs": [],
   "source": []
  }
 ],
 "metadata": {
  "kernelspec": {
   "display_name": "Python 3",
   "language": "python",
   "name": "python3"
  },
  "language_info": {
   "codemirror_mode": {
    "name": "ipython",
    "version": 3
   },
   "file_extension": ".py",
   "mimetype": "text/x-python",
   "name": "python",
   "nbconvert_exporter": "python",
   "pygments_lexer": "ipython3",
   "version": "3.7.5"
  }
 },
 "nbformat": 4,
 "nbformat_minor": 2
}
